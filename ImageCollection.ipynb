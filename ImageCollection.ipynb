{
 "cells": [
  {
   "cell_type": "code",
   "execution_count": 2,
   "metadata": {},
   "outputs": [
    {
     "name": "stdout",
     "output_type": "stream",
     "text": [
      "Python 3.8.0\n"
     ]
    },
    {
     "name": "stdout",
     "output_type": "stream",
     "text": [
      "pip 24.0 from c:\\users\\anujv\\desktop\\epics\\.venv\\lib\\site-packages\\pip (python 3.8)\n",
      "\n"
     ]
    }
   ],
   "source": [
    "!python --version\n",
    "!pip --version"
   ]
  },
  {
   "cell_type": "code",
   "execution_count": 3,
   "metadata": {},
   "outputs": [
    {
     "name": "stdout",
     "output_type": "stream",
     "text": [
      "Requirement already satisfied: pip in c:\\users\\anujv\\desktop\\epics\\.venv\\lib\\site-packages (24.0)\n",
      "Package                      Version  Editable project location\n",
      "---------------------------- -------- ------------------------------------------------------------\n",
      "absl-py                      2.1.0\n",
      "apache-beam                  2.54.0\n",
      "asttokens                    2.4.1\n",
      "astunparse                   1.6.3\n",
      "avro-python3                 1.10.2\n",
      "backcall                     0.2.0\n",
      "cachetools                   5.3.2\n",
      "certifi                      2024.2.2\n",
      "charset-normalizer           3.3.2\n",
      "colorama                     0.4.6\n",
      "comm                         0.2.1\n",
      "contextlib2                  21.6.0\n",
      "contourpy                    1.1.1\n",
      "cycler                       0.12.1\n",
      "Cython                       3.0.8\n",
      "debugpy                      1.8.1\n",
      "decorator                    5.1.1\n",
      "executing                    2.0.1\n",
      "flatbuffers                  1.12\n",
      "fonttools                    4.49.0\n",
      "gast                         0.3.3\n",
      "gin-config                   0.4.0\n",
      "google-ai-generativelanguage 0.1.0\n",
      "google-api-core              2.17.1\n",
      "google-auth                  2.28.0\n",
      "google-auth-oauthlib         0.4.6\n",
      "google-generativeai          0.1.0rc1\n",
      "google-pasta                 0.2.0\n",
      "googleapis-common-protos     1.62.0\n",
      "grpcio                       1.32.0\n",
      "grpcio-status                1.60.1\n",
      "h5py                         2.10.0\n",
      "idna                         3.6\n",
      "importlib-metadata           7.0.1\n",
      "importlib-resources          6.1.1\n",
      "ipykernel                    6.29.2\n",
      "ipython                      8.12.3\n",
      "jedi                         0.19.1\n",
      "jupyter_client               8.6.0\n",
      "jupyter_core                 5.7.1\n",
      "keras                        2.9.0\n",
      "Keras-Applications           1.0.8\n",
      "Keras-Preprocessing          1.1.2\n",
      "kiwisolver                   1.4.5\n",
      "libclang                     16.0.6\n",
      "lvis                         0.5.3\n",
      "lxml                         5.1.0\n",
      "Markdown                     3.5.2\n",
      "MarkupSafe                   2.1.5\n",
      "matplotlib                   3.7.5\n",
      "matplotlib-inline            0.1.6\n",
      "nest-asyncio                 1.6.0\n",
      "numpy                        1.23.4\n",
      "oauthlib                     3.2.2\n",
      "object-detection             0.1\n",
      "opencv-python                4.9.0.80\n",
      "opt-einsum                   3.3.0\n",
      "packaging                    23.2\n",
      "pandas                       1.2.3\n",
      "parso                        0.8.3\n",
      "pickleshare                  0.7.5\n",
      "pillow                       10.2.0\n",
      "pip                          24.0\n",
      "platformdirs                 4.2.0\n",
      "prompt-toolkit               3.0.43\n",
      "proto-plus                   1.23.0\n",
      "protobuf                     3.19.6\n",
      "psutil                       5.9.8\n",
      "pure-eval                    0.2.2\n",
      "pyasn1                       0.5.1\n",
      "pyasn1-modules               0.3.0\n",
      "pycocotools                  2.0.7\n",
      "Pygments                     2.17.2\n",
      "pyparsing                    3.1.1\n",
      "PyQt5                        5.15.10\n",
      "PyQt5-Qt5                    5.15.2\n",
      "PyQt5-sip                    12.13.0\n",
      "python-dateutil              2.8.2\n",
      "pytz                         2024.1\n",
      "pywin32                      306\n",
      "PyYAML                       6.0.1\n",
      "pyzmq                        25.1.2\n",
      "requests                     2.31.0\n",
      "requests-oauthlib            1.3.1\n",
      "rsa                          4.9\n",
      "sacrebleu                    2.2.0\n",
      "scipy                        1.10.1\n",
      "setuptools                   41.2.0\n",
      "sip                          6.8.3\n",
      "six                          1.15.0\n",
      "slim                         0.1      c:\\users\\anujv\\desktop\\epics\\tensorflow\\models\\research\\slim\n",
      "stack-data                   0.6.3\n",
      "tabulate                     0.9.0\n",
      "tensorboard                  2.9.1\n",
      "tensorboard-data-server      0.6.1\n",
      "tensorboard-plugin-wit       1.8.1\n",
      "tensorflow                   2.9.0\n",
      "tensorflow-estimator         2.9.0\n",
      "tensorflow-hub               0.9.0\n",
      "tensorflow-io                0.17.1\n",
      "tensorflow-io-gcs-filesystem 0.31.0\n",
      "tensorflowjs                 3.3.0\n",
      "termcolor                    1.1.0\n",
      "tf-keras                     2.15.0\n",
      "tf-models-official           2.15.0\n",
      "tf-slim                      1.1.0\n",
      "tomli                        2.0.1\n",
      "tornado                      6.4\n",
      "traitlets                    5.14.1\n",
      "typing-extensions            3.7.4.3\n",
      "urllib3                      2.2.1\n",
      "wcwidth                      0.2.13\n",
      "Werkzeug                     3.0.1\n",
      "wget                         3.2\n",
      "wheel                        0.42.0\n",
      "wrapt                        1.12.1\n",
      "zipp                         3.17.0\n"
     ]
    }
   ],
   "source": [
    "!pip install --upgrade pip\n",
    "!pip list"
   ]
  },
  {
   "cell_type": "code",
   "execution_count": 4,
   "metadata": {},
   "outputs": [],
   "source": [
    "# !pip install opencv-python\n",
    "# !pip install --upgrade pyqt5 lxml\n",
    "# !pip install sip"
   ]
  },
  {
   "cell_type": "code",
   "execution_count": 1,
   "metadata": {},
   "outputs": [],
   "source": [
    "import cv2\n",
    "import uuid\n",
    "import os\n",
    "import time"
   ]
  },
  {
   "cell_type": "code",
   "execution_count": 2,
   "metadata": {},
   "outputs": [],
   "source": [
    "number_imgs = 6"
   ]
  },
  {
   "cell_type": "code",
   "execution_count": 3,
   "metadata": {},
   "outputs": [],
   "source": [
    "IMAGES_PATH = os.path.join('Tensorflow', 'workspace', 'images', 'collectedimages')\n",
    "LABELIMG_PATH = os.path.join('Tensorflow', 'labelimg')\n",
    "ACTIONS_RECORD = os.path.join('Tensorflow', 'workspace', 'actions.txt')"
   ]
  },
  {
   "cell_type": "code",
   "execution_count": 4,
   "metadata": {},
   "outputs": [],
   "source": [
    "if not os.path.exists(IMAGES_PATH):\n",
    "  if os.name == 'posix':\n",
    "    !mkdir -p {IMAGES_PATH}\n",
    "  if os.name == 'nt':\n",
    "    !mkdir {IMAGES_PATH}\n",
    "\n",
    "if not os.path.exists(LABELIMG_PATH):\n",
    "  if os.name == 'posix':\n",
    "    !mkdir -p {LABELIMG_PATH}\n",
    "  if os.name == 'nt':\n",
    "    !mkdir {LABELIMG_PATH}\n",
    "\n",
    "  !git clone https://github.com/tzutalin/labelImg {LABELIMG_PATH}"
   ]
  },
  {
   "cell_type": "code",
   "execution_count": 5,
   "metadata": {},
   "outputs": [
    {
     "data": {
      "text/plain": [
       "['hello', 'how', 'you', 'thanks']"
      ]
     },
     "execution_count": 5,
     "metadata": {},
     "output_type": "execute_result"
    }
   ],
   "source": [
    "labels = []\n",
    "with open(ACTIONS_RECORD, 'r') as file:\n",
    "    labels = file.read().splitlines()\n",
    "\n",
    "labels"
   ]
  },
  {
   "cell_type": "code",
   "execution_count": 11,
   "metadata": {},
   "outputs": [],
   "source": [
    "action = input('Enter action')\n",
    "\n",
    "with open(ACTIONS_RECORD, 'a+') as file:\n",
    "    content = file.read()\n",
    "    if action not in labels:\n",
    "        file.write(action + \"\\n\")\n",
    "        labels.append('action')\n",
    "\n",
    "cap = cv2.VideoCapture(0)\n",
    "\n",
    "for imgnum in range(number_imgs+1):\n",
    "    ret, frame = cap.read()\n",
    "    cv2.putText(frame, f'Collecting frames for {action} - Image Number {imgnum}', (15, 12),\n",
    "                cv2.FONT_HERSHEY_SIMPLEX, 0.5, (0, 0, 255), 1, cv2.LINE_AA)\n",
    "\n",
    "    for countdown in range(5, 0, -1):\n",
    "        countdown_frame = frame.copy()\n",
    "            \n",
    "        cv2.putText(countdown_frame, f'Capturing in {countdown} seconds', (120, 200),\n",
    "                    cv2.FONT_HERSHEY_SIMPLEX, 1, (0, 255, 0), 4, cv2.LINE_AA)\n",
    "            \n",
    "        cv2.imshow('Countdown', countdown_frame)\n",
    "        cv2.waitKey(1000)\n",
    "\n",
    "    if imgnum != 0:\n",
    "        imgname = os.path.join(IMAGES_PATH, action+'.'+f'{str(uuid.uuid1())}.jpg')\n",
    "        cv2.imwrite(imgname, frame)\n",
    "\n",
    "    if cv2.waitKey(10) & 0xFF == ord('q'):\n",
    "        break\n",
    "    \n",
    "cap.release()\n",
    "cv2.destroyAllWindows()"
   ]
  },
  {
   "cell_type": "code",
   "execution_count": 6,
   "metadata": {},
   "outputs": [],
   "source": [
    "if not os.path.exists(LABELIMG_PATH):\n",
    "    !mkdir {LABELIMG_PATH}\n",
    "    !git clone https://github.com/tzutalin/labelImg {LABELIMG_PATH}"
   ]
  },
  {
   "cell_type": "code",
   "execution_count": 7,
   "metadata": {},
   "outputs": [],
   "source": [
    "if os.name == 'posix':\n",
    "    !make qt5py3\n",
    "if os.name =='nt':\n",
    "    !cd {LABELIMG_PATH} && pyrcc5 -o libs/resources.py resources.qrc"
   ]
  },
  {
   "cell_type": "code",
   "execution_count": 8,
   "metadata": {},
   "outputs": [
    {
     "name": "stdout",
     "output_type": "stream",
     "text": [
      "Image:C:\\Users\\anujv\\Desktop\\EPICS\\Tensorflow\\workspace\\images\\collectedimages\\thanks.abff090d-d739-11ee-8755-a8b13b7c13b6.jpg -> Annotation:C:/Users/anujv/Desktop/EPICS/Tensorflow/workspace/images/collectedimages\\thanks.abff090d-d739-11ee-8755-a8b13b7c13b6.xml\n"
     ]
    }
   ],
   "source": [
    "!cd {LABELIMG_PATH} && python labelImg.py"
   ]
  },
  {
   "cell_type": "code",
   "execution_count": null,
   "metadata": {},
   "outputs": [],
   "source": []
  }
 ],
 "metadata": {
  "kernelspec": {
   "display_name": "SignScribe",
   "language": "python",
   "name": "python3"
  },
  "language_info": {
   "codemirror_mode": {
    "name": "ipython",
    "version": 3
   },
   "file_extension": ".py",
   "mimetype": "text/x-python",
   "name": "python",
   "nbconvert_exporter": "python",
   "pygments_lexer": "ipython3",
   "version": "3.8.0"
  }
 },
 "nbformat": 4,
 "nbformat_minor": 2
}
